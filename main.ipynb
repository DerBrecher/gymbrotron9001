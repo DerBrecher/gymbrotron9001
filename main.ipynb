{
 "cells": [
  {
   "cell_type": "code",
   "execution_count": 2,
   "metadata": {},
   "outputs": [],
   "source": [
    "%load_ext autoreload\n",
    "%autoreload 2"
   ]
  },
  {
   "cell_type": "code",
   "execution_count": 6,
   "metadata": {},
   "outputs": [],
   "source": [
    "import functions\n",
    "import logging\n",
    "import traceback"
   ]
  },
  {
   "cell_type": "code",
   "execution_count": 11,
   "metadata": {},
   "outputs": [],
   "source": [
    "try:\n",
    "    functions.create_debug_information(logging.WARNING)\n",
    "\n",
    "    secrets = functions.get_secrets()\n",
    "\n",
    "    sheet = functions.check_google_sheet(secrets[\"google_sheet_id\"], secrets[\"range_name\"])\n",
    "\n",
    "    df = functions.sheets_to_dataframe(sheet)\n",
    "\n",
    "    df_7 = functions.select_last_n_days(df, 7)\n",
    "\n",
    "    message = functions.generate_feedback_message(df_7)\n",
    "\n",
    "    # await functions.send_telegram_message(secrets[\"telegram_token\"], secrets[\"telegram_chat_id\"], message)\n",
    "\n",
    "    print(message)\n",
    "\n",
    "except Exception as e:\n",
    "    trace = traceback.format_exc()\n",
    "\n",
    "    await functions.send_telegram_message(secrets[\"telegram_token\"], secrets[\"telegram_monitor_chat_id\"], trace)\n",
    "    # print(e)"
   ]
  }
 ],
 "metadata": {
  "kernelspec": {
   "display_name": "workoutReporter-YeLNyX7I",
   "language": "python",
   "name": "python3"
  },
  "language_info": {
   "codemirror_mode": {
    "name": "ipython",
    "version": 3
   },
   "file_extension": ".py",
   "mimetype": "text/x-python",
   "name": "python",
   "nbconvert_exporter": "python",
   "pygments_lexer": "ipython3",
   "version": "3.10.6"
  },
  "orig_nbformat": 4
 },
 "nbformat": 4,
 "nbformat_minor": 2
}
